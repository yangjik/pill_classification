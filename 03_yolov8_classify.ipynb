{
 "cells": [
  {
   "cell_type": "markdown",
   "metadata": {},
   "source": [
    "# Yolov8 classify\n",
    "\n",
    "- 참고문서<br>\n",
    "yolov8_classify : https://docs.ultralytics.com/ko/tasks/classify/#dataset-format"
   ]
  },
  {
   "cell_type": "markdown",
   "metadata": {},
   "source": [
    "# 학습하기 위한 데이터 나누기(현재 클래스별 1~2장)"
   ]
  },
  {
   "cell_type": "code",
   "execution_count": 1,
   "metadata": {},
   "outputs": [],
   "source": [
    "import os, shutil\n",
    "from sklearn.model_selection import train_test_split"
   ]
  },
  {
   "cell_type": "code",
   "execution_count": 2,
   "metadata": {},
   "outputs": [],
   "source": [
    "# 각 폴더 이름 가져오기\n",
    "frist_path = './medinode_data_001_120/'\n",
    "ls_dir = os.listdir(frist_path)"
   ]
  },
  {
   "cell_type": "code",
   "execution_count": 26,
   "metadata": {},
   "outputs": [],
   "source": [
    "# 한글로 문제 발생시\n",
    "\n",
    "for _ in ls_dir:\n",
    "    org_path = frist_path + _\n",
    "    new_path = frist_path + _.split('_')[0]\n",
    "    os.rename(org_path, new_path)   "
   ]
  },
  {
   "cell_type": "code",
   "execution_count": 3,
   "metadata": {},
   "outputs": [],
   "source": [
    "# 각 폴더 이름 가져오기\n",
    "frist_path = './medinode_data_001_120/'\n",
    "ls_dir = os.listdir(frist_path)"
   ]
  },
  {
   "cell_type": "code",
   "execution_count": null,
   "metadata": {},
   "outputs": [],
   "source": [
    "# data 폴더에 클래스별 만들어 놓기\n",
    "for _ in ls_dir:\n",
    "\n",
    "    if os.path.exists('./data/train') == False:\n",
    "        print('생성 완')\n",
    "        os.mkdir('./data/train')\n",
    "\n",
    "    if os.path.exists('./data/test') == False:\n",
    "        print('생성 완')\n",
    "        os.mkdir('./data/test')\n",
    "\n",
    "    train_path = './data/train/' + _\n",
    "    if os.path.exists(train_path) == False:\n",
    "        print('생성 완')\n",
    "        os.mkdir(train_path)\n",
    "    else:\n",
    "        print(train_path, '존재')\n",
    "    \n",
    "    test_path = './data/test/' + _\n",
    "    if os.path.exists(test_path) == False:\n",
    "        print('생성 완')\n",
    "        os.mkdir(test_path)\n",
    "    else:\n",
    "        print(test_path, '존재')"
   ]
  },
  {
   "cell_type": "code",
   "execution_count": 7,
   "metadata": {},
   "outputs": [],
   "source": [
    "# train : test = 9 : 1 로 나눠서 복사하기\n",
    "for _ in ls_dir:\n",
    "    path = frist_path + _ + '/'\n",
    "\n",
    "    ls_file_name = os.listdir(path)\n",
    "    train, test = train_test_split(ls_file_name, train_size=0.9, shuffle=False)\n",
    "\n",
    "    for a in train:\n",
    "        org_path = path + a\n",
    "        copy_path = './data/train/' + _ + '/'+ a\n",
    "        shutil.copy(org_path, copy_path)\n",
    "\n",
    "    for b in test:\n",
    "        org_path = path + b\n",
    "        copy_path = './data/test/' + _ + '/'+ b\n",
    "        shutil.copy(org_path, copy_path)"
   ]
  },
  {
   "cell_type": "markdown",
   "metadata": {},
   "source": [
    "### yolov8 classify 학습 진행"
   ]
  },
  {
   "cell_type": "code",
   "execution_count": 2,
   "metadata": {},
   "outputs": [
    {
     "name": "stderr",
     "output_type": "stream",
     "text": [
      "Ultralytics YOLOv8.0.20  Python-3.10.0 torch-2.2.1+cu118 CUDA:0 (NVIDIA GeForce GTX 1660 Ti, 6144MiB)\n",
      "Setup complete  (12 CPUs, 31.9 GB RAM, 579.9/931.4 GB disk)\n"
     ]
    }
   ],
   "source": [
    "import ultralytics\n",
    "ultralytics.checks()"
   ]
  },
  {
   "cell_type": "code",
   "execution_count": 3,
   "metadata": {},
   "outputs": [
    {
     "name": "stderr",
     "output_type": "stream",
     "text": [
      "Ultralytics YOLOv8.0.20  Python-3.10.0 torch-2.2.1+cu118 CUDA:0 (NVIDIA GeForce GTX 1660 Ti, 6144MiB)\n",
      "\u001b[34m\u001b[1myolo\\engine\\trainer: \u001b[0mtask=classify, mode=train, model=yolov8n-cls.yaml, data=./data.yaml, epochs=100, patience=50, batch=16, imgsz=640, save=True, cache=True, device=, workers=16, project=None, name=None, exist_ok=False, pretrained=False, optimizer=SGD, verbose=True, seed=0, deterministic=True, single_cls=False, image_weights=False, rect=False, cos_lr=False, close_mosaic=10, resume=False, overlap_mask=True, mask_ratio=4, dropout=0.0, val=True, save_json=False, save_hybrid=False, conf=None, iou=0.7, max_det=300, half=False, dnn=False, plots=True, source=None, show=False, save_txt=False, save_conf=False, save_crop=False, hide_labels=False, hide_conf=False, vid_stride=1, line_thickness=3, visualize=False, augment=False, agnostic_nms=False, classes=None, retina_masks=False, boxes=True, format=torchscript, keras=False, optimize=False, int8=False, dynamic=False, simplify=False, opset=None, workspace=4, nms=False, lr0=0.1, lrf=0.01, momentum=0.937, weight_decay=0.0001, warmup_epochs=0, warmup_momentum=0.8, warmup_bias_lr=0.1, box=7.5, cls=0.5, dfl=1.5, fl_gamma=0.0, label_smoothing=0.1, nbs=256, hsv_h=0.015, hsv_s=0.7, hsv_v=0.4, degrees=0.0, translate=0.1, scale=0.5, shear=0.0, perspective=0.0, flipud=0.0, fliplr=0.5, mosaic=1.0, mixup=0.0, copy_paste=0.0, cfg=None, v5loader=False, save_dir=runs\\classify\\train3\n"
     ]
    },
    {
     "name": "stdout",
     "output_type": "stream",
     "text": [
      "WARNING:tensorflow:From C:\\Users\\Jik\\AppData\\Roaming\\Python\\Python310\\site-packages\\keras\\src\\losses.py:2976: The name tf.losses.sparse_softmax_cross_entropy is deprecated. Please use tf.compat.v1.losses.sparse_softmax_cross_entropy instead.\n",
      "\n"
     ]
    },
    {
     "name": "stderr",
     "output_type": "stream",
     "text": [
      "Overriding model.yaml nc=1000 with nc=105\n",
      "\n",
      "                   from  n    params  module                                       arguments                     \n",
      "  0                  -1  1       464  ultralytics.nn.modules.Conv                  [3, 16, 3, 2]                 \n",
      "  1                  -1  1      4672  ultralytics.nn.modules.Conv                  [16, 32, 3, 2]                \n",
      "  2                  -1  1      7360  ultralytics.nn.modules.C2f                   [32, 32, 1, True]             \n",
      "  3                  -1  1     18560  ultralytics.nn.modules.Conv                  [32, 64, 3, 2]                \n",
      "  4                  -1  2     49664  ultralytics.nn.modules.C2f                   [64, 64, 2, True]             \n",
      "  5                  -1  1     73984  ultralytics.nn.modules.Conv                  [64, 128, 3, 2]               \n",
      "  6                  -1  2    197632  ultralytics.nn.modules.C2f                   [128, 128, 2, True]           \n",
      "  7                  -1  1    295424  ultralytics.nn.modules.Conv                  [128, 256, 3, 2]              \n",
      "  8                  -1  1    460288  ultralytics.nn.modules.C2f                   [256, 256, 1, True]           \n",
      "  9                  -1  1    464745  ultralytics.nn.modules.Classify              [256, 105]                    \n",
      "YOLOv8n-cls summary: 99 layers, 1572793 parameters, 1572793 gradients, 3.5 GFLOPs\n",
      "\u001b[34m\u001b[1moptimizer:\u001b[0m SGD(lr=0.1) with parameter groups 26 weight(decay=0.0), 27 weight(decay=0.0001), 27 bias\n",
      "Image sizes 224 train, 224 val\n",
      "Using 12 dataloader workers\n",
      "Logging results to \u001b[1mruns\\classify\\train3\u001b[0m\n",
      "Starting training for 100 epochs...\n",
      "\n",
      "      Epoch    GPU_mem       loss  Instances       Size\n",
      "      1/100     0.377G     0.2761          5        224: 100%|██████████| 296/296 [01:00<00:00,  4.88it/s]\n",
      "               classes   top1_acc   top5_acc: 100%|██████████| 9/9 [00:01<00:00,  7.89it/s]\n",
      "                   all      0.019       0.11\n",
      "\n",
      "      Epoch    GPU_mem       loss  Instances       Size\n",
      "      2/100     0.377G     0.2384          5        224: 100%|██████████| 296/296 [00:26<00:00, 11.11it/s]\n",
      "               classes   top1_acc   top5_acc: 100%|██████████| 9/9 [00:00<00:00,  9.66it/s]\n",
      "                   all     0.0705      0.251\n",
      "\n",
      "      Epoch    GPU_mem       loss  Instances       Size\n",
      "      3/100      0.38G      0.213          5        224: 100%|██████████| 296/296 [00:27<00:00, 10.91it/s]\n",
      "               classes   top1_acc   top5_acc: 100%|██████████| 9/9 [00:00<00:00, 10.09it/s]\n",
      "                   all     0.0248      0.145\n",
      "\n",
      "      Epoch    GPU_mem       loss  Instances       Size\n",
      "      4/100      0.38G     0.1918          5        224: 100%|██████████| 296/296 [00:27<00:00, 10.91it/s]\n",
      "               classes   top1_acc   top5_acc: 100%|██████████| 9/9 [00:00<00:00,  9.78it/s]\n",
      "                   all      0.139       0.43\n",
      "\n",
      "      Epoch    GPU_mem       loss  Instances       Size\n",
      "      5/100      0.38G     0.1727          5        224: 100%|██████████| 296/296 [00:27<00:00, 10.96it/s]\n",
      "               classes   top1_acc   top5_acc: 100%|██████████| 9/9 [00:00<00:00,  9.62it/s]\n",
      "                   all      0.211      0.606\n",
      "\n",
      "      Epoch    GPU_mem       loss  Instances       Size\n",
      "      6/100      0.38G     0.1596          5        224: 100%|██████████| 296/296 [00:27<00:00, 10.67it/s]\n",
      "               classes   top1_acc   top5_acc: 100%|██████████| 9/9 [00:00<00:00,  9.85it/s]\n",
      "                   all      0.303      0.731\n",
      "\n",
      "      Epoch    GPU_mem       loss  Instances       Size\n",
      "      7/100      0.38G     0.1411          5        224: 100%|██████████| 296/296 [00:27<00:00, 10.86it/s]\n",
      "               classes   top1_acc   top5_acc: 100%|██████████| 9/9 [00:00<00:00,  9.77it/s]\n",
      "                   all     0.0457      0.166\n",
      "\n",
      "      Epoch    GPU_mem       loss  Instances       Size\n",
      "      8/100      0.38G     0.1228          5        224: 100%|██████████| 296/296 [00:26<00:00, 11.06it/s]\n",
      "               classes   top1_acc   top5_acc: 100%|██████████| 9/9 [00:00<00:00,  9.88it/s]\n",
      "                   all      0.267      0.533\n",
      "\n",
      "      Epoch    GPU_mem       loss  Instances       Size\n",
      "      9/100      0.38G     0.1006          5        224: 100%|██████████| 296/296 [00:27<00:00, 10.91it/s]\n",
      "               classes   top1_acc   top5_acc: 100%|██████████| 9/9 [00:00<00:00,  9.55it/s]\n",
      "                   all     0.0876      0.345\n",
      "\n",
      "      Epoch    GPU_mem       loss  Instances       Size\n",
      "     10/100      0.38G    0.08319          5        224: 100%|██████████| 296/296 [00:27<00:00, 10.87it/s]\n",
      "               classes   top1_acc   top5_acc: 100%|██████████| 9/9 [00:00<00:00,  9.64it/s]\n",
      "                   all      0.455      0.722\n",
      "\n",
      "      Epoch    GPU_mem       loss  Instances       Size\n",
      "     11/100      0.38G    0.07003          5        224: 100%|██████████| 296/296 [00:26<00:00, 10.99it/s]\n",
      "               classes   top1_acc   top5_acc: 100%|██████████| 9/9 [00:00<00:00,  9.58it/s]\n",
      "                   all      0.579      0.903\n",
      "\n",
      "      Epoch    GPU_mem       loss  Instances       Size\n",
      "     12/100      0.38G     0.0594          5        224: 100%|██████████| 296/296 [00:26<00:00, 11.03it/s]\n",
      "               classes   top1_acc   top5_acc: 100%|██████████| 9/9 [00:00<00:00,  9.52it/s]\n",
      "                   all      0.594      0.897\n",
      "\n",
      "      Epoch    GPU_mem       loss  Instances       Size\n",
      "     13/100      0.38G    0.04931          5        224: 100%|██████████| 296/296 [00:27<00:00, 10.91it/s]\n",
      "               classes   top1_acc   top5_acc: 100%|██████████| 9/9 [00:00<00:00,  9.44it/s]\n",
      "                   all      0.663      0.956\n",
      "\n",
      "      Epoch    GPU_mem       loss  Instances       Size\n",
      "     14/100      0.38G    0.03847          5        224: 100%|██████████| 296/296 [00:27<00:00, 10.67it/s]\n",
      "               classes   top1_acc   top5_acc: 100%|██████████| 9/9 [00:00<00:00,  9.62it/s]\n",
      "                   all       0.75      0.958\n",
      "\n",
      "      Epoch    GPU_mem       loss  Instances       Size\n",
      "     15/100      0.38G    0.03148          5        224: 100%|██████████| 296/296 [00:27<00:00, 10.74it/s]\n",
      "               classes   top1_acc   top5_acc: 100%|██████████| 9/9 [00:00<00:00,  9.65it/s]\n",
      "                   all      0.701      0.958\n",
      "\n",
      "      Epoch    GPU_mem       loss  Instances       Size\n",
      "     16/100      0.38G    0.02689          5        224: 100%|██████████| 296/296 [00:27<00:00, 10.80it/s]\n",
      "               classes   top1_acc   top5_acc: 100%|██████████| 9/9 [00:00<00:00,  9.58it/s]\n",
      "                   all      0.878      0.971\n",
      "\n",
      "      Epoch    GPU_mem       loss  Instances       Size\n",
      "     17/100      0.38G    0.02128          5        224: 100%|██████████| 296/296 [00:27<00:00, 10.83it/s]\n",
      "               classes   top1_acc   top5_acc: 100%|██████████| 9/9 [00:00<00:00,  9.58it/s]\n",
      "                   all      0.634      0.912\n",
      "\n",
      "      Epoch    GPU_mem       loss  Instances       Size\n",
      "     18/100      0.38G    0.01799          5        224: 100%|██████████| 296/296 [00:27<00:00, 10.63it/s]\n",
      "               classes   top1_acc   top5_acc: 100%|██████████| 9/9 [00:01<00:00,  8.81it/s]\n",
      "                   all      0.855      0.975\n",
      "\n",
      "      Epoch    GPU_mem       loss  Instances       Size\n",
      "     19/100      0.38G     0.0206         16        224:   5%|▌         | 15/296 [00:01<00:30,  9.21it/s]"
     ]
    }
   ],
   "source": [
    "from ultralytics import YOLO\n",
    "\n",
    "# Load a model\n",
    "model = YOLO('yolov8n-cls.pt')  # load a pretrained model (recommended for training)\n",
    "\n",
    "# Train the model\n",
    "results = model.train(data='./data.yaml', epochs=100, imgsz=640, cache=True)"
   ]
  },
  {
   "cell_type": "markdown",
   "metadata": {},
   "source": [
    "### yolov8n-cls 모델 사용해서 predict"
   ]
  },
  {
   "cell_type": "code",
   "execution_count": 5,
   "metadata": {},
   "outputs": [
    {
     "name": "stderr",
     "output_type": "stream",
     "text": [
      "Ultralytics YOLOv8.0.20  Python-3.10.13 torch-2.2.1+cpu CPU\n"
     ]
    },
    {
     "name": "stderr",
     "output_type": "stream",
     "text": [
      "YOLOv8n-cls summary (fused): 73 layers, 1569385 parameters, 0 gradients, 3.4 GFLOPs\n",
      "Results saved to \u001b[1mruns\\classify\\predict2\u001b[0m\n",
      "1 label saved to runs\\classify\\predict2\\labels\n"
     ]
    }
   ],
   "source": [
    "img_path = './data/test/002/055.jpg'\n",
    "\n",
    "model = YOLO('./runs/classify/train2/weights/best.pt')\n",
    "\n",
    "results = model.predict(img_path, save=True, save_txt=True)"
   ]
  },
  {
   "cell_type": "code",
   "execution_count": 23,
   "metadata": {},
   "outputs": [
    {
     "data": {
      "text/plain": [
       "<bound method YOLO.info of <ultralytics.yolo.engine.model.YOLO object at 0x00000211EA31BEE0>>"
      ]
     },
     "execution_count": 23,
     "metadata": {},
     "output_type": "execute_result"
    }
   ],
   "source": []
  }
 ],
 "metadata": {
  "kernelspec": {
   "display_name": "simple_study",
   "language": "python",
   "name": "python3"
  },
  "language_info": {
   "codemirror_mode": {
    "name": "ipython",
    "version": 3
   },
   "file_extension": ".py",
   "mimetype": "text/x-python",
   "name": "python",
   "nbconvert_exporter": "python",
   "pygments_lexer": "ipython3",
   "version": "3.10.0"
  }
 },
 "nbformat": 4,
 "nbformat_minor": 2
}
