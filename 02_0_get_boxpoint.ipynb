{
 "cells": [
  {
   "cell_type": "markdown",
   "metadata": {},
   "source": [
    "# 이미지에서 원안에 좌표 구하기 위한 박스 좌표 얻기\n",
    "\n",
    "![img](./ex_box.PNG)"
   ]
  },
  {
   "cell_type": "code",
   "execution_count": 2,
   "metadata": {},
   "outputs": [],
   "source": [
    "import os, cv2\n",
    "import numpy as np\n",
    "import pandas as pd"
   ]
  },
  {
   "cell_type": "code",
   "execution_count": 5,
   "metadata": {},
   "outputs": [],
   "source": [
    "drow_point = []\n",
    "save_point = []\n",
    "def on_mouse(event, x, y, flags, param):\n",
    "    global save_point\n",
    "    if event == cv2.EVENT_LBUTTONDOWN:\n",
    "        drow_point.append([x, y])\n",
    "    elif event == cv2.EVENT_RBUTTONDOWN:\n",
    "        save_point.append(drow_point.copy())\n",
    "        pts = np.array([drow_point], dtype=np.int32)\n",
    "        cv2.polylines(img, pts, True, color=(0,255,0), thickness=2)\n",
    "        cv2.imshow('img', img)\n",
    "        drow_point.clear()\n",
    "\n",
    "path = './medinode_data_001_120/001/000.jpg'\n",
    "\n",
    "img = cv2.imread(path)\n",
    "\n",
    "cv2.imshow('img', img)\n",
    "cv2.setMouseCallback('img', on_mouse)\n",
    "cv2. waitKey()\n",
    "cv2.destroyAllWindows()\n",
    "\n",
    "a = 0\n",
    "while os.path.exists(f\"./polybox_point_{a}.txt\"):\n",
    "  a += 1\n",
    "\n",
    "save_polybox = f'./polybox_point_{a}.txt'\n",
    "with open(save_polybox, 'w', encoding='utf-8') as f:\n",
    "    for point_list in save_point:\n",
    "        point_str = ','.join(map(str, point_list))\n",
    "        f.write(point_str + '\\n')"
   ]
  },
  {
   "cell_type": "markdown",
   "metadata": {},
   "source": [
    "# 버전 1 - 해당 다각형 안에 알약 중심 좌표가 있는지하기 위한 다각형 좌표"
   ]
  },
  {
   "cell_type": "code",
   "execution_count": 3,
   "metadata": {},
   "outputs": [],
   "source": [
    "import os, cv2\n",
    "import numpy as np\n",
    "\n",
    "def pill_poly_point(img_path):\n",
    "\n",
    "    img = cv2.imread(img_path)\n",
    "\n",
    "    if img is None:\n",
    "        raise('이미지 경로 확인')\n",
    "\n",
    "    cv2.imshow('img', img)\n",
    "\n",
    "    drow_point = []\n",
    "    save_point = []\n",
    "\n",
    "    # 마우스 이벤트\n",
    "    def on_mouse(event, x, y, flags, param):\n",
    "        # 왼쪽은 좌표얻기\n",
    "        if event == cv2.EVENT_LBUTTONDOWN:\n",
    "            drow_point.append([x, y])\n",
    "\n",
    "        # 오른쪽은 다각형그리기\n",
    "        elif event == cv2.EVENT_RBUTTONDOWN:\n",
    "            save_point.append(drow_point.copy())\n",
    "            pts = np.array([drow_point], dtype=np.int32)\n",
    "            cv2.polylines(img, pts, True, color=(0, 255, 0), thickness=2)\n",
    "            cv2.imshow('img', img)\n",
    "            drow_point.clear()\n",
    "\n",
    "    cv2.setMouseCallback('img', on_mouse)\n",
    "    cv2.waitKey(0)\n",
    "    cv2.destroyAllWindows()\n",
    "\n",
    "    # 기존에 파일 존재하면 신규 파일 생성\n",
    "    a = 0\n",
    "    while os.path.exists(f\"./polybox_point_{a}.txt\"):\n",
    "        a += 1\n",
    "\n",
    "    # 위에서 얻은 다각형 좌표 저장\n",
    "    save_polybox = f\"./polybox_point_{a}.txt\"\n",
    "    with open(save_polybox, 'w', encoding='utf-8') as f:\n",
    "        for point_list in save_point:\n",
    "            point_str = ','.join(map(str, point_list))\n",
    "            f.write(f\"{point_str}\\n\")"
   ]
  },
  {
   "cell_type": "code",
   "execution_count": 4,
   "metadata": {},
   "outputs": [],
   "source": [
    "path = './medinode_data_001_120/001/000.jpg'\n",
    "pill_poly_point(path)"
   ]
  }
 ],
 "metadata": {
  "kernelspec": {
   "display_name": "pill",
   "language": "python",
   "name": "python3"
  },
  "language_info": {
   "codemirror_mode": {
    "name": "ipython",
    "version": 3
   },
   "file_extension": ".py",
   "mimetype": "text/x-python",
   "name": "python",
   "nbconvert_exporter": "python",
   "pygments_lexer": "ipython3",
   "version": "3.10.0"
  }
 },
 "nbformat": 4,
 "nbformat_minor": 2
}
