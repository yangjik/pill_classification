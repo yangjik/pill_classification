{
 "cells": [
  {
   "cell_type": "markdown",
   "metadata": {},
   "source": [
    "# 공통 작업을 위해 디렉토리 설정\n",
    "\n",
    "- org_img : 엑셀파일에서 큰제품이미지\n",
    "- dataset : yolov8 classify 하기 위한 데이터 구조"
   ]
  },
  {
   "cell_type": "code",
   "execution_count": null,
   "metadata": {},
   "outputs": [],
   "source": [
    "import os"
   ]
  },
  {
   "cell_type": "code",
   "execution_count": null,
   "metadata": {},
   "outputs": [],
   "source": [
    "ls_dir = ['org_img', 'dataset']"
   ]
  },
  {
   "cell_type": "code",
   "execution_count": null,
   "metadata": {},
   "outputs": [],
   "source": [
    "# 단일 폴더 생성시\n",
    "if os.path.exists('./org_img/') == False:\n",
    "    os.mkdir('./org_img/')\n",
    "    print('org_img 폴더 생성완')\n",
    "else:\n",
    "    print('폴더 존재')"
   ]
  },
  {
   "cell_type": "code",
   "execution_count": null,
   "metadata": {},
   "outputs": [],
   "source": [
    "# 전체 폴더 생성시\n",
    "for _ in ls_dir:\n",
    "    mk_path = f'./{_}/'\n",
    "\n",
    "    if os.path.exists(mk_path) == False:\n",
    "        os.mkdir(mk_path)\n",
    "        print(f'{mk_path} 폴더 생성 완')\n",
    "    else:\n",
    "        print(f'{mk_path} 존재')"
   ]
  }
 ],
 "metadata": {
  "language_info": {
   "name": "python"
  }
 },
 "nbformat": 4,
 "nbformat_minor": 2
}
